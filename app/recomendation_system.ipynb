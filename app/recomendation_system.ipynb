{
 "cells": [
  {
   "cell_type": "code",
   "execution_count": null,
   "metadata": {},
   "outputs": [],
   "source": [
    "import pandas\n",
    "from main import get_place_data as GetPlaceData\n",
    "from main.utils.data_logger import Logger\n",
    "from main.core.data_handler import DataHandler\n",
    "from main.core.classifier import Recommender\n",
    "from main import make_recommendation\n",
    "import main.utils as utils\n",
    "data_handler = DataHandler()\n",
    "\n",
    "%reload_ext sql\n",
    "%sql mysql+pymysql://root:secret@db:3306/my_db"
   ]
  },
  {
   "cell_type": "markdown",
   "metadata": {},
   "source": [
    "### Getting data from google places API"
   ]
  },
  {
   "cell_type": "code",
   "execution_count": null,
   "metadata": {},
   "outputs": [],
   "source": [
    "my_logger = Logger(logger_name='Test_run').get_logger()\n",
    "my_logger.info('Start')\n",
    "results = await GetPlaceData.run(query='Sao Paulo, SP', type='restaurant',radius=5000, resolution=50, timeout=20)\n",
    "my_logger.info('Done!')"
   ]
  },
  {
   "cell_type": "markdown",
   "metadata": {},
   "source": [
    "### Preprocessing data to put it in to the db."
   ]
  },
  {
   "cell_type": "code",
   "execution_count": null,
   "metadata": {},
   "outputs": [],
   "source": [
    "data_frame = data_handler.dict_list_to_dataframe(results)\n",
    "data_frame['name'] = data_frame['name'].apply(lambda name: emoji.demojize(name))\n",
    "data_frame['name'] = data_frame['name'].apply(lambda name: strip_accents(name))\n",
    "data_frame['formatted_address'] = data_frame['formatted_address'].apply(lambda name: strip_accents(name))\n",
    "data_frame['lat'] = data_frame['geometry'].apply(lambda row: row['location']['lat'])\n",
    "data_frame['lon'] = data_frame['geometry'].apply(lambda row: row['location']['lng'])\n",
    "data_frame.columns"
   ]
  },
  {
   "cell_type": "markdown",
   "metadata": {},
   "source": [
    "### Connecting to db, filtering revelant info and adding it to db."
   ]
  },
  {
   "cell_type": "code",
   "execution_count": null,
   "metadata": {},
   "outputs": [],
   "source": [
    "engine = data_handler.db_connect(db_url = \"mysql+pymysql://root:secret@db:3306/my_db\")"
   ]
  },
  {
   "cell_type": "code",
   "execution_count": null,
   "metadata": {},
   "outputs": [],
   "source": [
    "data_frame2 = data_frame[['business_status', 'name', 'place_id', 'price_level','lat', 'lon' ,'rating','user_ratings_total']]\n",
    "data_handler.add_data_to_db(data_frame2, name='RESTAURANT_SP_CAP2',con = engine, if_exists='replace', index=False, method='multi')\n"
   ]
  },
  {
   "cell_type": "markdown",
   "metadata": {},
   "source": [
    "#### Now quering this data from db, making it to a dataframe, and dropping NaN values."
   ]
  },
  {
   "cell_type": "code",
   "execution_count": null,
   "metadata": {},
   "outputs": [],
   "source": [
    "data_frame = data_handler.get_data_from_db(query=\"SELECT * FROM RESTAURANT_SP_CAP_2\", con=engine)\n",
    "data_frame.dropna(inplace=True)\n",
    "data_frame['place_id']=data_frame['place_id'].astype(str)\n",
    "data_frame['name']=data_frame['name'].astype(str)\n",
    "#data_frame['formatted_address']=data_frame['formatted_address'].astype(str)\n",
    "print(data_frame.shape)\n",
    "data_frame.dtypes"
   ]
  },
  {
   "cell_type": "markdown",
   "metadata": {},
   "source": [
    "### Getting only relevant data to classifier"
   ]
  },
  {
   "cell_type": "code",
   "execution_count": null,
   "metadata": {},
   "outputs": [],
   "source": [
    "data_frame.drop_duplicates(['place_id'], keep='last', inplace=True)\n",
    "data_frame.reset_index(drop=True, inplace=True)\n",
    "data_frame2=data_frame[['price_level', 'rating', 'user_ratings_total', 'lat', 'lon']]\n",
    "data_frame2.shape\n",
    "\n",
    "\n"
   ]
  },
  {
   "cell_type": "markdown",
   "metadata": {},
   "source": [
    "### Acessing the best k number through elbow method, using Within Cluster Sum of Squared Errors"
   ]
  },
  {
   "cell_type": "code",
   "execution_count": null,
   "metadata": {},
   "outputs": [],
   "source": [
    "my_classifier = Recommender()\n",
    "my_classifier.preprocess(data_frame2, standarize=True)\n",
    "my_classifier.get_best_cluster_number(n_clusters=20,method='ms',init = \"k-means++\", n_init=12)\n"
   ]
  },
  {
   "cell_type": "markdown",
   "metadata": {},
   "source": [
    "### Discovered that the best k is 4."
   ]
  },
  {
   "cell_type": "markdown",
   "metadata": {},
   "source": [
    "### Visualising clusters!"
   ]
  },
  {
   "cell_type": "code",
   "execution_count": null,
   "metadata": {},
   "outputs": [],
   "source": [
    "my_classifier.train(n_clusters=4, init = \"k-means++\", n_init=12)\n",
    "my_classifier.plot_intercluster_distance()"
   ]
  },
  {
   "cell_type": "markdown",
   "metadata": {},
   "source": [
    "### Recommend locations."
   ]
  },
  {
   "cell_type": "code",
   "execution_count": null,
   "metadata": {},
   "outputs": [],
   "source": [
    "import pandas\n",
    "restaurant = {'price_level':[1.0],\n",
    "              'rating':[4.3],\n",
    "              'user_ratings_total':[107],\n",
    "              'lat ':[-24.128515],\n",
    "              'lon':[-46.689152]}\n",
    "restaurant = pandas.DataFrame(restaurant)\n",
    "restaurant"
   ]
  },
  {
   "cell_type": "code",
   "execution_count": null,
   "metadata": {},
   "outputs": [],
   "source": [
    "make_recommendation.make_recommendation(restaurant)"
   ]
  }
 ],
 "metadata": {
  "kernelspec": {
   "display_name": "Python 3.10.5 ('base')",
   "language": "python",
   "name": "python3"
  },
  "language_info": {
   "codemirror_mode": {
    "name": "ipython",
    "version": 3
   },
   "file_extension": ".py",
   "mimetype": "text/x-python",
   "name": "python",
   "nbconvert_exporter": "python",
   "pygments_lexer": "ipython3",
   "version": "3.10.5"
  },
  "orig_nbformat": 4,
  "vscode": {
   "interpreter": {
    "hash": "d4d1e4263499bec80672ea0156c357c1ee493ec2b1c70f0acce89fc37c4a6abe"
   }
  }
 },
 "nbformat": 4,
 "nbformat_minor": 2
}
