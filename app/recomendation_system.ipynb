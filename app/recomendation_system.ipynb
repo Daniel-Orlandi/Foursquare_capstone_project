{
 "cells": [
  {
   "cell_type": "code",
   "execution_count": 8,
   "metadata": {},
   "outputs": [],
   "source": [
    "import csv, sqlite3\n",
    "import pandas as pd\n",
    "import sqlalchemy as db\n",
    "import numpy as np\n",
    "from app.core.http_engine import Request\n",
    "from app.core.geodata import GeoLocData\n",
    "import requests\n",
    "import json"
   ]
  },
  {
   "cell_type": "code",
   "execution_count": null,
   "metadata": {},
   "outputs": [],
   "source": [
    "db_url = \"mysql+pymysql://root:secret@db:3306/my_db\"\n",
    "def db_connect(db_url:str):\n",
    "  try:\n",
    "    engine = db.create_engine(db_url)    \n",
    "    metadata = db.MetaData(bind=engine)\n",
    "    metadata.reflect(only=['test_table'])\n",
    "    test_table=metadata.tables['test_table']    \n",
    "    print(f\"Connected:\\n {test_table}\")\n",
    "    return engine\n",
    "\n",
    "  except Exception as ex:\n",
    "          print('Connection could not be made due to the following error: \\n', ex)\n",
    "\n",
    "engine = db_connect(db_url=db_url)"
   ]
  },
  {
   "cell_type": "code",
   "execution_count": 2,
   "metadata": {},
   "outputs": [],
   "source": [
    "location_name = 'São José dos Campos'\n",
    "type = \"bar\"\n",
    "radius = \"50000\"\n",
    "lat = -23.2198396\n",
    "lon = -45.8915658\n",
    "url = f\"https://maps.googleapis.com/maps/api/place/nearbysearch/json?location=-23.2198396%2C-45.8915658&radius={radius}&type={type}&keyword=cruise&key={google_api_key}\"\n",
    "url2 = f\"https://maps.googleapis.com/maps/api/geocode/json?address={location_name}&key={google_api_key}\"\n",
    "url3 = f\"https://maps.googleapis.com/maps/api/place/findplacefromtext/json?input={location_name}&inputtype=textquery&fields=geometry&key={google_api_key}\"\n",
    "url4 = f\"https://maps.googleapis.com/maps/api/place/textsearch/json?&location={lat}%2C{lon}&radius={radius}&type={type}&key={google_api_key}\"\n"
   ]
  },
  {
   "cell_type": "code",
   "execution_count": null,
   "metadata": {},
   "outputs": [],
   "source": []
  },
  {
   "cell_type": "code",
   "execution_count": null,
   "metadata": {},
   "outputs": [],
   "source": [
    "x,y =my_location.build_search_grid(upper_right=[b_box['northeast']['lat'], b_box['northeast']['lng']], lower_left=[b_box['southwest']['lat'], b_box['southwest']['lng']], resolution=100)\n",
    "print(x,y)\n"
   ]
  },
  {
   "cell_type": "code",
   "execution_count": null,
   "metadata": {},
   "outputs": [],
   "source": [
    "pd.DataFrame.from_records()(data_dict['SJC'])"
   ]
  }
 ],
 "metadata": {
  "kernelspec": {
   "display_name": "Python 3.10.5 ('base')",
   "language": "python",
   "name": "python3"
  },
  "language_info": {
   "codemirror_mode": {
    "name": "ipython",
    "version": 3
   },
   "file_extension": ".py",
   "mimetype": "text/x-python",
   "name": "python",
   "nbconvert_exporter": "python",
   "pygments_lexer": "ipython3",
   "version": "3.10.5"
  },
  "orig_nbformat": 4,
  "vscode": {
   "interpreter": {
    "hash": "d4d1e4263499bec80672ea0156c357c1ee493ec2b1c70f0acce89fc37c4a6abe"
   }
  }
 },
 "nbformat": 4,
 "nbformat_minor": 2
}
